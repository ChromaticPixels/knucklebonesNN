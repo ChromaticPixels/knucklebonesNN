{
 "cells": [
  {
   "cell_type": "code",
   "execution_count": 1,
   "id": "5ee5f984-e09e-48f6-bb51-a69d8a6405fb",
   "metadata": {},
   "outputs": [
    {
     "name": "stdout",
     "output_type": "stream",
     "text": [
      "hello world\n",
      "abcdefghi\n"
     ]
    }
   ],
   "source": [
    "print(\"hello world\")\n",
    "print(\"abcdefghi\")"
   ]
  },
  {
   "cell_type": "code",
   "execution_count": null,
   "id": "1dad82bd-c22f-401b-8a6f-86e53df691ad",
   "metadata": {},
   "outputs": [],
   "source": []
  }
 ],
 "metadata": {
  "kernelspec": {
   "display_name": "Python 3 (ipykernel)",
   "language": "python",
   "name": "python3"
  },
  "language_info": {
   "codemirror_mode": {
    "name": "ipython",
    "version": 3
   },
   "file_extension": ".py",
   "mimetype": "text/x-python",
   "name": "python",
   "nbconvert_exporter": "python",
   "pygments_lexer": "ipython3",
   "version": "3.10.16"
  }
 },
 "nbformat": 4,
 "nbformat_minor": 5
}
